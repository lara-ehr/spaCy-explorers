{
 "cells": [
  {
   "cell_type": "markdown",
   "metadata": {},
   "source": [
    "# Exploring election tweets from Tweet the People project"
   ]
  },
  {
   "cell_type": "markdown",
   "metadata": {},
   "source": [
    "I want to build a Naive Bayes classifier that predicts whether a given tweet is about a Republican or Democrat presidential candidate.\n",
    "\n",
    "(For the purposes of this model, I'll assume that a tweet is \"about a Republican\" if it originally contained the words `donaldtrump`, `donald trump`, `mikepence`, or `mike pence`, and the same for the Democrat candidates. But I'll strip these actual terms out before building the model, otherwise the model wouldn't be building a prediction based on anything other than the presence of these terms.)\n",
    "\n",
    "Before I build this model, I'd like to know:\n",
    "\n",
    "- Is there a class imbalance that I need to take into account in my model?\n",
    "- Some basic stats about the tweets:\n",
    "    - Average no. words (and whether it differs by candidate)\n",
    "    - Popular terminology (using TF-IDF)\n",
    "- Bonus: Check distribution of sentiment in each ticket\n",
    "- Bonus: I'll be stripping out hashtags, but I'm curious to know about the trends here."
   ]
  },
  {
   "cell_type": "markdown",
   "metadata": {},
   "source": [
    "## Step 1: reading in data, basic data cleaning"
   ]
  },
  {
   "cell_type": "code",
   "execution_count": 33,
   "metadata": {},
   "outputs": [],
   "source": [
    "import re\n",
    "import pandas as pd\n",
    "\n",
    "from spacy.lang.en import English\n",
    "from spacy.tokenizer import Tokenizer"
   ]
  },
  {
   "cell_type": "code",
   "execution_count": 35,
   "metadata": {},
   "outputs": [],
   "source": [
    "nlp = English()"
   ]
  },
  {
   "cell_type": "code",
   "execution_count": 25,
   "metadata": {},
   "outputs": [],
   "source": [
    "dict_replace = {\"-\": \" \", \"\\.\": \"\", \"\\?\": \"\\'\", \"\\s+\": \" \", \"&amp;\" : \"and\"}"
   ]
  },
  {
   "cell_type": "code",
   "execution_count": 98,
   "metadata": {},
   "outputs": [
    {
     "name": "stderr",
     "output_type": "stream",
     "text": [
      "/opt/anaconda3/lib/python3.7/site-packages/IPython/core/interactiveshell.py:3063: DtypeWarning: Columns (0,4,5) have mixed types.Specify dtype option on import or set low_memory=False.\n",
      "  interactivity=interactivity, compiler=compiler, result=result)\n"
     ]
    }
   ],
   "source": [
    "tweets = pd.read_csv('/Users/laraehrenhofer/Documents/Coding_Projects/git_repos/tweet-the-people-legacy/data/tweet_pg.csv')"
   ]
  },
  {
   "cell_type": "code",
   "execution_count": 99,
   "metadata": {},
   "outputs": [],
   "source": [
    "tweets = tweets[['text', 'politician', 'date', 'sentiment', 'ticket']]"
   ]
  },
  {
   "cell_type": "code",
   "execution_count": 104,
   "metadata": {},
   "outputs": [],
   "source": [
    "# looks like some tweets were wrongly inserted with the date as the politician -- going to delete these from the sample.\n",
    "\n",
    "tweets = tweets[tweets['politician'].apply(lambda x: isinstance(x, str))]"
   ]
  },
  {
   "cell_type": "code",
   "execution_count": 106,
   "metadata": {},
   "outputs": [
    {
     "data": {
      "text/plain": [
       "316699"
      ]
     },
     "execution_count": 106,
     "metadata": {},
     "output_type": "execute_result"
    }
   ],
   "source": [
    "len(tweets)"
   ]
  },
  {
   "cell_type": "code",
   "execution_count": 107,
   "metadata": {},
   "outputs": [
    {
     "data": {
      "text/plain": [
       "array(['kamalaharris', 'donaldtrump', 'joebiden', 'mikepence',\n",
       "       '2020-11-03 00', '2020-11-03 01', '2020-11-03 02', '2020-11-03 03',\n",
       "       '2020-11-03 06', '2020-11-03 13', '2020-11-03 14', '2020-11-03 16',\n",
       "       '2020-11-03 17'], dtype=object)"
      ]
     },
     "execution_count": 107,
     "metadata": {},
     "output_type": "execute_result"
    }
   ],
   "source": [
    "tweets['politician'].unique()"
   ]
  },
  {
   "cell_type": "code",
   "execution_count": 20,
   "metadata": {},
   "outputs": [],
   "source": [
    "def get_handles_hashtags(text):\n",
    "    '''\n",
    "    Returns a list of hashtags and user handles in the text\n",
    "    '''\n",
    "    handles = re.findall('\\B\\@\\w+', text)\n",
    "    hashtags = re.findall('\\B\\#\\w+', text)\n",
    "    return handles, hashtags"
   ]
  },
  {
   "cell_type": "code",
   "execution_count": 39,
   "metadata": {},
   "outputs": [],
   "source": [
    "tester = tweets.head(50)"
   ]
  },
  {
   "cell_type": "code",
   "execution_count": 38,
   "metadata": {},
   "outputs": [],
   "source": [
    "def strip_out_weird_symbols(text):\n",
    "    '''\n",
    "    Replaces special symbols that get messed up eg. replaces &amp; with and (as they are functionally identical)\n",
    "    See dict_replace for replacements\n",
    "    '''\n",
    "    for key, value in dict_replace.items():\n",
    "        sub = re.sub(key, value, text)\n",
    "        text = sub\n",
    "    text = re.sub(r'\\\\', '', text)\n",
    "    text = re.sub('\\s+', ' ', text)\n",
    "    return text"
   ]
  },
  {
   "cell_type": "code",
   "execution_count": 44,
   "metadata": {},
   "outputs": [],
   "source": [
    "def strip_out_handles_hashtags(text):\n",
    "    '''\n",
    "    Removes handles and hashtags\n",
    "    '''\n",
    "    text = re.sub(r'@\\w+', '', text)\n",
    "    text = re.sub(r'#\\w+', '', text)\n",
    "    return text"
   ]
  },
  {
   "cell_type": "code",
   "execution_count": 90,
   "metadata": {},
   "outputs": [],
   "source": [
    "def clean_text(text):\n",
    "    '''\n",
    "    - Removes handles & hashtags from text\n",
    "    - Handles odd symbols\n",
    "    - Tokenisation\n",
    "    '''\n",
    "    cleaned = strip_out_weird_symbols(text)\n",
    "    cleaned = strip_out_handles_hashtags(cleaned)\n",
    "    doc = nlp(cleaned)\n",
    "    cleaned = [token.orth_.lower() for token in doc if not token.is_punct]\n",
    "    cleaned = [item for item in cleaned if not re.search('\\s+', item)]\n",
    "    text_len = len(cleaned)\n",
    "    cleaned = ' '.join(cleaned)\n",
    "    return cleaned, text_len"
   ]
  },
  {
   "cell_type": "code",
   "execution_count": 24,
   "metadata": {},
   "outputs": [],
   "source": [
    "tweets[['handles', 'hashtags']] = tweets.apply(lambda row: pd.Series(get_handles_hashtags(row['text'])), axis=1)"
   ]
  },
  {
   "cell_type": "code",
   "execution_count": 92,
   "metadata": {},
   "outputs": [
    {
     "name": "stderr",
     "output_type": "stream",
     "text": [
      "/opt/anaconda3/lib/python3.7/site-packages/pandas/core/frame.py:2963: SettingWithCopyWarning: \n",
      "A value is trying to be set on a copy of a slice from a DataFrame.\n",
      "Try using .loc[row_indexer,col_indexer] = value instead\n",
      "\n",
      "See the caveats in the documentation: https://pandas.pydata.org/pandas-docs/stable/user_guide/indexing.html#returning-a-view-versus-a-copy\n",
      "  self[k1] = value[k2]\n"
     ]
    }
   ],
   "source": [
    "tweets[['clean_text', 'text_len']] = tweets.apply(lambda row: pd.Series(clean_text(row['text'])), axis=1)"
   ]
  },
  {
   "cell_type": "markdown",
   "metadata": {},
   "source": [
    "## Step 2: check class imbalance"
   ]
  },
  {
   "cell_type": "markdown",
   "metadata": {},
   "source": [
    "Quick count & visualisation of how many tweets per candidate and per ticket."
   ]
  },
  {
   "cell_type": "code",
   "execution_count": 105,
   "metadata": {},
   "outputs": [
    {
     "data": {
      "text/html": [
       "<div>\n",
       "<style scoped>\n",
       "    .dataframe tbody tr th:only-of-type {\n",
       "        vertical-align: middle;\n",
       "    }\n",
       "\n",
       "    .dataframe tbody tr th {\n",
       "        vertical-align: top;\n",
       "    }\n",
       "\n",
       "    .dataframe thead th {\n",
       "        text-align: right;\n",
       "    }\n",
       "</style>\n",
       "<table border=\"1\" class=\"dataframe\">\n",
       "  <thead>\n",
       "    <tr style=\"text-align: right;\">\n",
       "      <th></th>\n",
       "      <th>text</th>\n",
       "      <th>date</th>\n",
       "      <th>sentiment</th>\n",
       "      <th>ticket</th>\n",
       "    </tr>\n",
       "    <tr>\n",
       "      <th>politician</th>\n",
       "      <th></th>\n",
       "      <th></th>\n",
       "      <th></th>\n",
       "      <th></th>\n",
       "    </tr>\n",
       "  </thead>\n",
       "  <tbody>\n",
       "    <tr>\n",
       "      <th>2020-11-03 00</th>\n",
       "      <td>1</td>\n",
       "      <td>1</td>\n",
       "      <td>0</td>\n",
       "      <td>0</td>\n",
       "    </tr>\n",
       "    <tr>\n",
       "      <th>2020-11-03 01</th>\n",
       "      <td>1</td>\n",
       "      <td>1</td>\n",
       "      <td>0</td>\n",
       "      <td>0</td>\n",
       "    </tr>\n",
       "    <tr>\n",
       "      <th>2020-11-03 02</th>\n",
       "      <td>3</td>\n",
       "      <td>3</td>\n",
       "      <td>0</td>\n",
       "      <td>0</td>\n",
       "    </tr>\n",
       "    <tr>\n",
       "      <th>2020-11-03 03</th>\n",
       "      <td>2</td>\n",
       "      <td>2</td>\n",
       "      <td>0</td>\n",
       "      <td>0</td>\n",
       "    </tr>\n",
       "    <tr>\n",
       "      <th>2020-11-03 06</th>\n",
       "      <td>2</td>\n",
       "      <td>2</td>\n",
       "      <td>0</td>\n",
       "      <td>0</td>\n",
       "    </tr>\n",
       "    <tr>\n",
       "      <th>2020-11-03 13</th>\n",
       "      <td>1</td>\n",
       "      <td>1</td>\n",
       "      <td>0</td>\n",
       "      <td>0</td>\n",
       "    </tr>\n",
       "    <tr>\n",
       "      <th>2020-11-03 14</th>\n",
       "      <td>1</td>\n",
       "      <td>1</td>\n",
       "      <td>0</td>\n",
       "      <td>0</td>\n",
       "    </tr>\n",
       "    <tr>\n",
       "      <th>2020-11-03 16</th>\n",
       "      <td>1</td>\n",
       "      <td>1</td>\n",
       "      <td>0</td>\n",
       "      <td>0</td>\n",
       "    </tr>\n",
       "    <tr>\n",
       "      <th>2020-11-03 17</th>\n",
       "      <td>1</td>\n",
       "      <td>1</td>\n",
       "      <td>0</td>\n",
       "      <td>0</td>\n",
       "    </tr>\n",
       "    <tr>\n",
       "      <th>donaldtrump</th>\n",
       "      <td>95427</td>\n",
       "      <td>95427</td>\n",
       "      <td>95427</td>\n",
       "      <td>95427</td>\n",
       "    </tr>\n",
       "    <tr>\n",
       "      <th>joebiden</th>\n",
       "      <td>103596</td>\n",
       "      <td>103596</td>\n",
       "      <td>103596</td>\n",
       "      <td>103596</td>\n",
       "    </tr>\n",
       "    <tr>\n",
       "      <th>kamalaharris</th>\n",
       "      <td>85274</td>\n",
       "      <td>85274</td>\n",
       "      <td>85274</td>\n",
       "      <td>85274</td>\n",
       "    </tr>\n",
       "    <tr>\n",
       "      <th>mikepence</th>\n",
       "      <td>32389</td>\n",
       "      <td>32389</td>\n",
       "      <td>32389</td>\n",
       "      <td>32389</td>\n",
       "    </tr>\n",
       "  </tbody>\n",
       "</table>\n",
       "</div>"
      ],
      "text/plain": [
       "                 text    date  sentiment  ticket\n",
       "politician                                      \n",
       "2020-11-03 00       1       1          0       0\n",
       "2020-11-03 01       1       1          0       0\n",
       "2020-11-03 02       3       3          0       0\n",
       "2020-11-03 03       2       2          0       0\n",
       "2020-11-03 06       2       2          0       0\n",
       "2020-11-03 13       1       1          0       0\n",
       "2020-11-03 14       1       1          0       0\n",
       "2020-11-03 16       1       1          0       0\n",
       "2020-11-03 17       1       1          0       0\n",
       "donaldtrump     95427   95427      95427   95427\n",
       "joebiden       103596  103596     103596  103596\n",
       "kamalaharris    85274   85274      85274   85274\n",
       "mikepence       32389   32389      32389   32389"
      ]
     },
     "execution_count": 105,
     "metadata": {},
     "output_type": "execute_result"
    }
   ],
   "source": [
    "# count by candidate\n",
    "\n",
    "cand = tweets.groupby(['politician']).count()\n",
    "cand"
   ]
  },
  {
   "cell_type": "code",
   "execution_count": null,
   "metadata": {},
   "outputs": [],
   "source": []
  }
 ],
 "metadata": {
  "kernelspec": {
   "display_name": "Python 3",
   "language": "python",
   "name": "python3"
  },
  "language_info": {
   "codemirror_mode": {
    "name": "ipython",
    "version": 3
   },
   "file_extension": ".py",
   "mimetype": "text/x-python",
   "name": "python",
   "nbconvert_exporter": "python",
   "pygments_lexer": "ipython3",
   "version": "3.7.6"
  }
 },
 "nbformat": 4,
 "nbformat_minor": 4
}

{
 "cells": [
  {
   "cell_type": "markdown",
   "metadata": {},
   "source": [
    "# Exploring election tweets from Tweet the People project"
   ]
  },
  {
   "cell_type": "markdown",
   "metadata": {},
   "source": [
    "I want to build a Naive Bayes classifier that predicts whether a given tweet is about a Republican or Democrat presidential candidate.\n",
    "\n",
    "(For the purposes of this model, I'll assume that a tweet is \"about a Republican\" if it originally contained the words `donaldtrump`, `donald trump`, `mikepence`, or `mike pence`, and the same for the Democrat candidates. But I'll strip these actual terms out before building the model, otherwise the model wouldn't be building a prediction based on anything other than the presence of these terms.)\n",
    "\n",
    "Before I build this model, I'd like to know:\n",
    "\n",
    "- Is there a class imbalance that I need to take into account in my model?\n",
    "- Some basic stats about the tweets:\n",
    "    - Average no. words (and whether it differs by candidate)\n",
    "    - Popular terminology (using TF-IDF)\n",
    "- Bonus: Check distribution of sentiment in each ticket\n",
    "- Bonus: I'll be stripping out hashtags, but I'm curious to know about the trends here."
   ]
  },
  {
   "cell_type": "markdown",
   "metadata": {},
   "source": [
    "## Step 1: reading in data, basic data cleaning"
   ]
  },
  {
   "cell_type": "code",
   "execution_count": 163,
   "metadata": {},
   "outputs": [],
   "source": [
    "import re\n",
    "import pandas as pd\n",
    "import numpy as np\n",
    "import random\n",
    "\n",
    "from spacy.lang.en import English\n",
    "from spacy.tokenizer import Tokenizer"
   ]
  },
  {
   "cell_type": "code",
   "execution_count": 109,
   "metadata": {},
   "outputs": [],
   "source": [
    "nlp = English()"
   ]
  },
  {
   "cell_type": "code",
   "execution_count": 110,
   "metadata": {},
   "outputs": [],
   "source": [
    "dict_replace = {\"-\": \" \", \"\\.\": \"\", \"\\?\": \"\\'\", \"\\s+\": \" \", \"&amp;\" : \"and\"}"
   ]
  },
  {
   "cell_type": "code",
   "execution_count": 159,
   "metadata": {},
   "outputs": [
    {
     "name": "stderr",
     "output_type": "stream",
     "text": [
      "/opt/anaconda3/lib/python3.7/site-packages/IPython/core/interactiveshell.py:3063: DtypeWarning: Columns (0,4,5) have mixed types.Specify dtype option on import or set low_memory=False.\n",
      "  interactivity=interactivity, compiler=compiler, result=result)\n"
     ]
    }
   ],
   "source": [
    "tweets = pd.read_csv('/Users/laraehrenhofer/Documents/Coding_Projects/git_repos/tweet-the-people-legacy/data/tweet_pg.csv')"
   ]
  },
  {
   "cell_type": "code",
   "execution_count": 160,
   "metadata": {},
   "outputs": [],
   "source": [
    "tweets = tweets[['text', 'politician', 'date', 'sentiment', 'ticket']]"
   ]
  },
  {
   "cell_type": "markdown",
   "metadata": {},
   "source": [
    "Some tweets were wrongly inserted with the date as the politician -- I'm going to delete these data points from the sample. (This removes about 30 tweets.)"
   ]
  },
  {
   "cell_type": "code",
   "execution_count": 118,
   "metadata": {},
   "outputs": [],
   "source": [
    "politicians = ['kamalaharris', 'donaldtrump', 'joebiden', 'mikepence']"
   ]
  },
  {
   "cell_type": "code",
   "execution_count": 167,
   "metadata": {},
   "outputs": [],
   "source": [
    "def is_politician(politician):\n",
    "    '''\n",
    "    Returns boolean indicating whether input is a member of politicians list\n",
    "    '''\n",
    "    if politician in politicians:\n",
    "        return politician\n",
    "    else:\n",
    "        return np.NaN"
   ]
  },
  {
   "cell_type": "code",
   "execution_count": 188,
   "metadata": {},
   "outputs": [],
   "source": [
    "tweets['politician'] = tweets['politician'].apply(lambda x: is_politician(x))\n",
    "tweets = tweets.dropna()"
   ]
  },
  {
   "cell_type": "code",
   "execution_count": 189,
   "metadata": {},
   "outputs": [],
   "source": [
    "def get_handles_hashtags(text):\n",
    "    '''\n",
    "    Returns separate lists of hashtags and user handles in the text\n",
    "    '''\n",
    "    handles = re.findall('\\B\\@\\w+', text)\n",
    "    hashtags = re.findall('\\B\\#\\w+', text)\n",
    "    return handles, hashtags"
   ]
  },
  {
   "cell_type": "code",
   "execution_count": 190,
   "metadata": {},
   "outputs": [],
   "source": [
    "def strip_out_weird_symbols(text):\n",
    "    '''\n",
    "    Replaces special symbols that get messed up eg. replaces &amp; with and (as they are functionally identical)\n",
    "    See dict_replace for replacements\n",
    "    '''\n",
    "    for key, value in dict_replace.items():\n",
    "        sub = re.sub(key, value, text)\n",
    "        text = sub\n",
    "    text = re.sub(r'\\\\', '', text)\n",
    "    text = re.sub('\\s+', ' ', text)\n",
    "    return text"
   ]
  },
  {
   "cell_type": "code",
   "execution_count": 191,
   "metadata": {},
   "outputs": [],
   "source": [
    "def strip_out_handles_hashtags(text):\n",
    "    '''\n",
    "    Removes handles and hashtags\n",
    "    '''\n",
    "    text = re.sub(r'@\\w+', '', text)\n",
    "    text = re.sub(r'#\\w+', '', text)\n",
    "    return text"
   ]
  },
  {
   "cell_type": "code",
   "execution_count": 192,
   "metadata": {},
   "outputs": [],
   "source": [
    "def clean_text(text):\n",
    "    '''\n",
    "    - Removes handles & hashtags from text\n",
    "    - Handles odd symbols\n",
    "    - Tokenisation\n",
    "    '''\n",
    "    cleaned = strip_out_weird_symbols(text)\n",
    "    cleaned = strip_out_handles_hashtags(cleaned)\n",
    "    doc = nlp(cleaned)\n",
    "    cleaned = [token.orth_.lower() for token in doc if not token.is_punct]\n",
    "    cleaned = [item for item in cleaned if not re.search('\\s+', item)]\n",
    "    text_len = len(cleaned)\n",
    "    cleaned = ' '.join(cleaned)\n",
    "    return cleaned, text_len"
   ]
  },
  {
   "cell_type": "code",
   "execution_count": 193,
   "metadata": {},
   "outputs": [],
   "source": [
    "tweets[['handles', 'hashtags']] = tweets.apply(lambda row: pd.Series(get_handles_hashtags(row['text'])), axis=1)"
   ]
  },
  {
   "cell_type": "code",
   "execution_count": 194,
   "metadata": {},
   "outputs": [],
   "source": [
    "tweets[['clean_text', 'text_len']] = tweets.apply(lambda row: pd.Series(clean_text(row['text'])), axis=1)"
   ]
  },
  {
   "cell_type": "code",
   "execution_count": 197,
   "metadata": {},
   "outputs": [],
   "source": [
    "# save this version of tweets data for later\n",
    "\n",
    "tweets.to_csv('./tweet_minimal.csv', index=False)"
   ]
  },
  {
   "cell_type": "markdown",
   "metadata": {},
   "source": [
    "## Step 2: check class imbalance"
   ]
  },
  {
   "cell_type": "markdown",
   "metadata": {},
   "source": [
    "Quick count of how many tweets per candidate and per ticket."
   ]
  },
  {
   "cell_type": "code",
   "execution_count": 201,
   "metadata": {},
   "outputs": [
    {
     "data": {
      "text/plain": [
       "politician\n",
       "donaldtrump      95427\n",
       "joebiden        103596\n",
       "kamalaharris     85274\n",
       "mikepence        32389\n",
       "Name: text, dtype: int64"
      ]
     },
     "execution_count": 201,
     "metadata": {},
     "output_type": "execute_result"
    }
   ],
   "source": [
    "# count by candidate\n",
    "\n",
    "cand = tweets.groupby(['politician']).count()\n",
    "cand = cand['text']\n",
    "cand"
   ]
  },
  {
   "cell_type": "code",
   "execution_count": 203,
   "metadata": {},
   "outputs": [
    {
     "data": {
      "text/plain": [
       "array([<matplotlib.axes._subplots.AxesSubplot object at 0x1425996d0>],\n",
       "      dtype=object)"
      ]
     },
     "execution_count": 203,
     "metadata": {},
     "output_type": "execute_result"
    },
    {
     "data": {
      "image/png": "[encoded data removed]",
      "text/plain": [
       "<Figure size 576x576 with 1 Axes>"
      ]
     },
     "metadata": {},
     "output_type": "display_data"
    }
   ],
   "source": [
    "# comparison\n",
    "\n",
    "cand.plot(kind='pie', subplots=True, figsize=(8, 8))"
   ]
  },
  {
   "cell_type": "code",
   "execution_count": 202,
   "metadata": {},
   "outputs": [
    {
     "data": {
      "text/plain": [
       "ticket\n",
       "Democrat      188870\n",
       "Republican    127816\n",
       "Name: text, dtype: int64"
      ]
     },
     "execution_count": 202,
     "metadata": {},
     "output_type": "execute_result"
    }
   ],
   "source": [
    "ticket = tweets.groupby(['ticket']).count()\n",
    "ticket = ticket['text']\n",
    "ticket"
   ]
  },
  {
   "cell_type": "code",
   "execution_count": 204,
   "metadata": {},
   "outputs": [
    {
     "data": {
      "text/plain": [
       "array([<matplotlib.axes._subplots.AxesSubplot object at 0x1243026d0>],\n",
       "      dtype=object)"
      ]
     },
     "execution_count": 204,
     "metadata": {},
     "output_type": "execute_result"
    },
    {
     "data": {
      "image/png": "[encoded data removed]",
      "text/plain": [
       "<Figure size 576x576 with 1 Axes>"
      ]
     },
     "metadata": {},
     "output_type": "display_data"
    }
   ],
   "source": [
    "ticket.plot(kind='pie', subplots=True, figsize=(8, 8))"
   ]
  },
  {
   "cell_type": "code",
   "execution_count": 207,
   "metadata": {},
   "outputs": [
    {
     "data": {
      "text/plain": [
       "0.5963951674529344"
      ]
     },
     "execution_count": 207,
     "metadata": {},
     "output_type": "execute_result"
    }
   ],
   "source": [
    "ticket[0]/sum(ticket)"
   ]
  },
  {
   "cell_type": "markdown",
   "metadata": {},
   "source": [
    "There's more tweets about Democrat than about Republican candidates, but that's quite probably due to the low rates of tweets about Mike Pence. Still, the discrepancy isn't monstrous (59% vs 41%), so I won't do any resampling to correct this."
   ]
  },
  {
   "cell_type": "code",
   "execution_count": null,
   "metadata": {},
   "outputs": [],
   "source": []
  }
 ],
 "metadata": {
  "kernelspec": {
   "display_name": "Python 3",
   "language": "python",
   "name": "python3"
  },
  "language_info": {
   "codemirror_mode": {
    "name": "ipython",
    "version": 3
   },
   "file_extension": ".py",
   "mimetype": "text/x-python",
   "name": "python",
   "nbconvert_exporter": "python",
   "pygments_lexer": "ipython3",
   "version": "3.7.6"
  }
 },
 "nbformat": 4,
 "nbformat_minor": 4
}
